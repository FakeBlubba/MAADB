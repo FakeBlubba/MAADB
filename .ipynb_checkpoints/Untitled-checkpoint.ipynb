{
 "cells": [
  {
   "cell_type": "code",
   "execution_count": null,
   "id": "e9c1426b",
   "metadata": {},
   "outputs": [],
   "source": [
    "import psycopg2\n",
    "\n",
    "# Si connette al database\n",
    "con = psycopg2.connect(\n",
    "    host = 'localhost',\n",
    "    database = 'resources_db',\n",
    "    user = 'federico.bianchetti',\n",
    "    password = 'daje123',\n",
    "    #port = 5342\n",
    ")\n",
    "\n",
    "# Cursore - quando si fa una query il client alloca tutto il contenuto verso il database\n",
    "cur = con.cursor()\n",
    "\n",
    "cur.execute('insert into employees(id,name) values (%s, $s)', (1, 'Marco'))\n",
    "\n",
    "# Tipo di esecuzione della query\n",
    "cur.execute('select id, name from empleyees')\n",
    "\n",
    "# Riporta tutte le rows\n",
    "rows = cur.fetchall()\n",
    "\n",
    "# Cicla su tutte le row\n",
    "for row in rows:\n",
    "    continue\n",
    "\n",
    "\n",
    "# Esegue il commit della transazione\n",
    "#con.commit()\n",
    "\n",
    "# Chiude il cursore\n",
    "\n",
    "cur.close()\n",
    "\n",
    "# Chiude la connessione con il database\n",
    "con.close()\n",
    "\n",
    "\n",
    "\n",
    "# Caricare le risorse sui due database (relazionale e MongoDB). \n",
    "# Calcolare la percentuale delle parole di ciascuna delle risorse (i diversi file relativi a uno dei sentimenti, rappresentati nella figura con il simbolo X) in cui le parole sono presenti anche nei messaggi tweet secondo lo schema mostrato qui sotto:\n",
    "\n",
    "    # Memorizzare la presenza delle parole nelle varie risorse (file) relative allo stesso sentimento.\n",
    "    # Caricare le risorse su MongoDB e db relazionale scelto\n",
    "    # Calcolare la percentuale delle parole di ciascuna delle risorse (i diversi file relativi a uno dei sentimenti, rappresentati nella figura con il simbolo X) in cui le parole sono presenti anche nei messaggi tweet secondo lo schema mostrato qui sotto:\n",
    "    "
   ]
  }
 ],
 "metadata": {
  "kernelspec": {
   "display_name": "Python 3 (ipykernel)",
   "language": "python",
   "name": "python3"
  },
  "language_info": {
   "codemirror_mode": {
    "name": "ipython",
    "version": 3
   },
   "file_extension": ".py",
   "mimetype": "text/x-python",
   "name": "python",
   "nbconvert_exporter": "python",
   "pygments_lexer": "ipython3",
   "version": "3.8.11"
  }
 },
 "nbformat": 4,
 "nbformat_minor": 5
}
