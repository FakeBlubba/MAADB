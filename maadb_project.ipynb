{
 "cells": [
  {
   "cell_type": "markdown",
   "id": "5effa919",
   "metadata": {},
   "source": [
    "# Importazione librerie e struttura dati iniziale "
   ]
  },
  {
   "cell_type": "code",
   "execution_count": 1,
   "id": "d23ba553",
   "metadata": {},
   "outputs": [],
   "source": [
    "import nltk \n",
    "import os\n",
    "import re\n",
    "import numpy as np # Per espressioni matematiche\n",
    "import emoji\n",
    "import matplotlib.pyplot as plt # Per rappresentazione di funzioni matematiche lato grafico"
   ]
  },
  {
   "cell_type": "markdown",
   "id": "fb617765",
   "metadata": {},
   "source": [
    "# Processamento e pulitura input"
   ]
  },
  {
   "cell_type": "code",
   "execution_count": 2,
   "id": "39f5b0f6",
   "metadata": {},
   "outputs": [
    {
     "name": "stdout",
     "output_type": "stream",
     "text": [
      "this weeken d: tcu football , next weeken d: marriage  @ amon g . carter stadium\n"
     ]
    }
   ],
   "source": [
    "df = 'row_data/dataframes/'\n",
    "\n",
    "emotions = {\n",
    "    'anger': [],\n",
    "    'anticipation': [],\n",
    "    'disgust': [],\n",
    "    'fear': [],\n",
    "    'joy': [],\n",
    "    'sadness': [],\n",
    "    'surprise': [],\n",
    "    'trust': []  \n",
    "}\n",
    "\n",
    "# Lista cotenente le chiavi del dictionary emotions, per facilitare gli accessi\n",
    "emotions_keys = emotions.keys()\n",
    "\n",
    "# Accesso al file e lettura delle singole linee\n",
    "for file_name in os.listdir(df):\n",
    "    with open((df + file_name), 'r') as emotion_df:\n",
    "        emotion_content = emotion_df.readlines()\n",
    "        \n",
    "    # Inserimento dei singoli tweet nel file + pulitura input\n",
    "    emotion_content = [emotion_line.replace('USERNAME','').replace('URL','').strip() for emotion_line in emotion_content] \n",
    "\n",
    "    # Inserimento di della lista emotion_content nel dictionary emotions\n",
    "    for key in emotions_keys:\n",
    "        if key in file_name:\n",
    "            emotions[key] = emotion_content\n",
    "    \n",
    "print(emotions['anger'][2]) # Dimostrazione della pulitura"
   ]
  },
  {
   "cell_type": "markdown",
   "id": "89f3f486",
   "metadata": {},
   "source": [
    "## Processamento hashtags and emoji"
   ]
  },
  {
   "cell_type": "code",
   "execution_count": 4,
   "id": "5f45f933",
   "metadata": {},
   "outputs": [
    {
     "ename": "KeyError",
     "evalue": "4",
     "output_type": "error",
     "traceback": [
      "\u001b[0;31m---------------------------------------------------------------------------\u001b[0m",
      "\u001b[0;31mKeyError\u001b[0m                                  Traceback (most recent call last)",
      "\u001b[0;32m/tmp/ipykernel_203936/2786651209.py\u001b[0m in \u001b[0;36m<module>\u001b[0;34m\u001b[0m\n\u001b[1;32m     41\u001b[0m                     \u001b[0memojis\u001b[0m\u001b[0;34m[\u001b[0m\u001b[0mchar\u001b[0m\u001b[0;34m]\u001b[0m \u001b[0;34m+=\u001b[0m \u001b[0;36m1\u001b[0m\u001b[0;34m\u001b[0m\u001b[0;34m\u001b[0m\u001b[0m\n\u001b[1;32m     42\u001b[0m \u001b[0;34m\u001b[0m\u001b[0m\n\u001b[0;32m---> 43\u001b[0;31m \u001b[0mprint\u001b[0m\u001b[0;34m(\u001b[0m\u001b[0mhashtags\u001b[0m\u001b[0;34m[\u001b[0m\u001b[0;36m4\u001b[0m\u001b[0;34m]\u001b[0m\u001b[0;34m)\u001b[0m\u001b[0;34m\u001b[0m\u001b[0;34m\u001b[0m\u001b[0m\n\u001b[0m\u001b[1;32m     44\u001b[0m \u001b[0mprint\u001b[0m\u001b[0;34m(\u001b[0m\u001b[0memojis\u001b[0m\u001b[0;34m)\u001b[0m\u001b[0;34m\u001b[0m\u001b[0;34m\u001b[0m\u001b[0m\n",
      "\u001b[0;31mKeyError\u001b[0m: 4"
     ]
    }
   ],
   "source": [
    "def convert(char_list):\n",
    "    converted = \"\"\n",
    "    for char in char_list:\n",
    "        converted += str(char)\n",
    "    return converted\n",
    "\n",
    "#print(emoji.UNICODE_EMOJI)\n",
    "\n",
    "hashtags = {}\n",
    "emojis = {}\n",
    "\n",
    "for key in emotions_keys:\n",
    "    for element in range(0, len(emotions[key])):\n",
    "        \n",
    "        # Processamento Hashtags\n",
    "        # Se '#' è presente nella voce di emotions su cui si sta iterando si trova la posizione di '#' e si crea una lista di caratteri che verrà convertita\n",
    "        if '#' in emotions[key][element]:\n",
    "            hashtag_prefix_position = emotions[key][element].find('#')\n",
    "            hashtag_end_position = emotions[key][element].find(' ', hashtag_prefix_position) # Cercherà il primo spazio a partire dalla posizione di #, serve per rilevare la dell'hashtag\n",
    "            char_list = [emotions[key][element][char] for char in range(hashtag_prefix_position,hashtag_end_position)]\n",
    "            hashtag = convert(char_list)\n",
    "            if hashtag != '':\n",
    "                if not hashtag in hashtags:\n",
    "                    hashtags[hashtag] = 1\n",
    "                else:\n",
    "                    hashtags[hashtag] += 1\n",
    "        \n",
    "        # Processamento Emojis\n",
    "        # Se un'emoji è presente nella voce di emotions su cui si sta iterando la si mette nel dictionary apposito\n",
    "        for char in emotions[key][element]:\n",
    "            \n",
    "            # Si confronta il carattere dell'iterazioni \n",
    "            # corrente con il dictionary emoji.UNICODE_EMOJI \n",
    "            # (che contiene l'emoji: :nomeemoji:), \n",
    "            # andava aggiunto l'accesso alle sole variabili inglesi\n",
    "            # altrimenti il programma non sarebbe andato\n",
    "            if char in emoji.UNICODE_EMOJI['en']:\n",
    "                if not char in emojis:\n",
    "                    emojis[char] = 1\n",
    "                else:\n",
    "                    emojis[char] += 1\n",
    "                    \n",
    "print(hashtags)\n",
    "print(emojis)"
   ]
  },
  {
   "cell_type": "code",
   "execution_count": null,
   "id": "df4f06e6",
   "metadata": {},
   "outputs": [],
   "source": []
  }
 ],
 "metadata": {
  "kernelspec": {
   "display_name": "Python 3 (ipykernel)",
   "language": "python",
   "name": "python3"
  },
  "language_info": {
   "codemirror_mode": {
    "name": "ipython",
    "version": 3
   },
   "file_extension": ".py",
   "mimetype": "text/x-python",
   "name": "python",
   "nbconvert_exporter": "python",
   "pygments_lexer": "ipython3",
   "version": "3.8.10"
  }
 },
 "nbformat": 4,
 "nbformat_minor": 5
}
