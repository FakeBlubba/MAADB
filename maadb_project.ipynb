{
 "cells": [
  {
   "cell_type": "markdown",
   "id": "5effa919",
   "metadata": {},
   "source": [
    "# Importazione librerie e struttura dati iniziale "
   ]
  },
  {
   "cell_type": "code",
   "execution_count": 120,
   "id": "d23ba553",
   "metadata": {},
   "outputs": [
    {
     "name": "stdout",
     "output_type": "stream",
     "text": [
      "this weeken d: tcu football , next weeken d: marriage  @ amon g . carter stadium\n"
     ]
    }
   ],
   "source": [
    "import nltk \n",
    "import os\n",
    "import pandas as pd \n",
    "import re\n",
    "import numpy as np # Per espressioni matematiche\n",
    "import matplotlib.pyplot as plt # Per rappresentazione di funzioni matematiche lato grafico"
   ]
  },
  {
   "cell_type": "markdown",
   "id": "fb617765",
   "metadata": {},
   "source": [
    "# Processamento e pulitura input"
   ]
  },
  {
   "cell_type": "code",
   "execution_count": 123,
   "id": "39f5b0f6",
   "metadata": {},
   "outputs": [
    {
     "name": "stdout",
     "output_type": "stream",
     "text": [
      "this weeken d: tcu football , next weeken d: marriage  @ amon g . carter stadium\n"
     ]
    }
   ],
   "source": [
    "path = '/home/federico/Scrivania/Progetto MAADB/row_data/dataframes/'\n",
    "\n",
    "emotions = {\n",
    "    'anger': [],\n",
    "    'anticipation': [],\n",
    "    'disgust': [],\n",
    "    'fear': [],\n",
    "    'joy': [],\n",
    "    'sadness': [],\n",
    "    'surprise': [],\n",
    "    'trust': []  \n",
    "}\n",
    "\n",
    "# Lista cotenente le chiavi del dictionary emotions, per facilitare gli accessi\n",
    "emotion_keys = emotions.keys()\n",
    "\n",
    "# Accesso al file e lettura delle singole linee\n",
    "for file_name in os.listdir(path):\n",
    "    with open(file_name, 'r') as emotion_df:\n",
    "        emotion_content = emotion_df.readlines()\n",
    "        \n",
    "    # Inserimento dei singoli tweet nel file + pulitura input\n",
    "    emotion_content = [emotion_line.replace('USERNAME','').replace('URL','').strip() for emotion_line in emotion_content] \n",
    "\n",
    "    # Inserimento di della lista #emotion_content nel dictionary emotions\n",
    "    for key in emotion_keys:\n",
    "        if key in file_name:\n",
    "            emotions[key] = emotion_content\n",
    "    \n",
    "print(emotions['anger'][2]) # Dimostrazione della pulitura"
   ]
  },
  {
   "cell_type": "markdown",
   "id": "89f3f486",
   "metadata": {},
   "source": [
    "## Processamento hashtags and emoji"
   ]
  },
  {
   "cell_type": "code",
   "execution_count": null,
   "id": "5f45f933",
   "metadata": {},
   "outputs": [],
   "source": []
  }
 ],
 "metadata": {
  "kernelspec": {
   "display_name": "Python 3 (ipykernel)",
   "language": "python",
   "name": "python3"
  },
  "language_info": {
   "codemirror_mode": {
    "name": "ipython",
    "version": 3
   },
   "file_extension": ".py",
   "mimetype": "text/x-python",
   "name": "python",
   "nbconvert_exporter": "python",
   "pygments_lexer": "ipython3",
   "version": "3.8.10"
  }
 },
 "nbformat": 4,
 "nbformat_minor": 5
}
